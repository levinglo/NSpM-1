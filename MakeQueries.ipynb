{
 "cells": [
  {
   "cell_type": "code",
   "execution_count": 39,
   "metadata": {},
   "outputs": [],
   "source": [
    "file = open(\"towns_plain\", \"r+\")\n",
    "file2 = open(\"towns_germany.txt\", \"w\")\n",
    "for line in file:\n",
    "    if line not in ['\\n', '\\r\\n']:\n",
    "        lines = line.rstrip()\n",
    "        file2.write(\"is \" + lines + \" a city in germany\\n\")"
   ]
  },
  {
   "cell_type": "code",
   "execution_count": 58,
   "metadata": {},
   "outputs": [],
   "source": [
    "file = open(\"towns_plain\",\"r+\")\n",
    "file2 = open(\"sparql_germany.sparql\", \"w\")\n",
    "c = \"var_c\"\n",
    "for line in file:\n",
    "    if line not in ['\\n', '\\r\\n']:\n",
    "        lines = line.rstrip()\n",
    "        file2.write(\"ask where brack_open \" +c+ \" rdf_type dbo_Town sep_dot \" +c+ \" dbo_country dbr_Germany sep_dot \" +c+ \" rdfs_label \" + 'par_open ' + lines+ ' par_close' + \" brack_close\\n\")\n",
    "    \n",
    "#ASK\n",
    "#WHERE {\n",
    "#?city rdf:type dbo:Town.\n",
    "#?city dbo:country dbr:Germany.\n",
    "#?city rdfs:label \"Backnang\"@en\n",
    "#}"
   ]
  },
  {
   "cell_type": "code",
   "execution_count": 4,
   "metadata": {},
   "outputs": [
    {
     "name": "stdout",
     "output_type": "stream",
     "text": [
      "Geben Sie Ihre Frage ein: \n",
      "\\ask where is edward iv located in\n",
      "\"where is edward iv located in \"\n"
     ]
    }
   ],
   "source": [
    "import subprocess\n",
    "import os\n",
    "import sys \n",
    "def main():\n",
    "\n",
    "    print(\"Geben Sie Ihre Frage ein: \")\n",
    "    cmd = \"sh ask.sh data/monument_300\"\n",
    "    question = input()\n",
    "    true_question = '\"'\n",
    "    split_question = question.split()\n",
    "    for x in split_question:\n",
    "        if x.startswith(\"\\\\\"):\n",
    "            continue\n",
    "        else:\n",
    "            true_question += x + \" \"\n",
    "    true_question += '\"'\n",
    "    print(true_question)\n",
    "    if split_question[0]== \"\\\\ask\":\n",
    "        os.system(cmd + true_question)\n",
    "    elif split_question[0]== \"\\query\":\n",
    "        print(\"query\")\n",
    "        #sh ask.sh data/towns_300 question\n",
    "    elif split_question[0] == \"\\\\noot\" :\n",
    "        print(\"you will never get this.....\")\n",
    "        print(\"noooooooooot\")\n",
    "    elif split_question[0]== \"\\help\":\n",
    "        print(\"You can ask if a city is in Germany other modules where not implemented yet\\n\")\n",
    "        print(\"If you type \\query please write an SPARQL Statement afterwards\")\n",
    "        print(\"Ask your question after typing \\\\ask \")\n",
    "        print(\"If you type \\\\noot you will never get this\")\n",
    "    else:\n",
    "        print(\"nope\")\n",
    "\n",
    "\n",
    "main()"
   ]
  },
  {
   "cell_type": "code",
   "execution_count": null,
   "metadata": {},
   "outputs": [],
   "source": []
  }
 ],
 "metadata": {
  "kernelspec": {
   "display_name": "Python 3",
   "language": "python",
   "name": "python3"
  },
  "language_info": {
   "codemirror_mode": {
    "name": "ipython",
    "version": 3
   },
   "file_extension": ".py",
   "mimetype": "text/x-python",
   "name": "python",
   "nbconvert_exporter": "python",
   "pygments_lexer": "ipython3",
   "version": "3.7.4"
  }
 },
 "nbformat": 4,
 "nbformat_minor": 2
}
